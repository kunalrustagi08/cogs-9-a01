{
 "cells": [
  {
   "cell_type": "code",
   "execution_count": 2,
   "id": "7dae562a",
   "metadata": {},
   "outputs": [],
   "source": [
    "import pandas as pd \n",
    "import numpy as np"
   ]
  },
  {
   "cell_type": "markdown",
   "id": "a19e9c35",
   "metadata": {},
   "source": [
    "# COGS 9 Section 01 Discussion 1: Python Basics"
   ]
  },
  {
   "cell_type": "markdown",
   "id": "05cd699c",
   "metadata": {},
   "source": [
    "## What we will go over today\n",
    "* Basic python data types\n",
    "* Basic operations\n",
    "* Basic Pandas DataFrame"
   ]
  },
  {
   "cell_type": "markdown",
   "id": "78beab4b",
   "metadata": {},
   "source": [
    "### Basic Python Data Types\n",
    "#### string type(str)"
   ]
  },
  {
   "cell_type": "code",
   "execution_count": 3,
   "id": "bd5a8e6d",
   "metadata": {},
   "outputs": [
    {
     "data": {
      "text/plain": [
       "'Jiesen'"
      ]
     },
     "execution_count": 3,
     "metadata": {},
     "output_type": "execute_result"
    }
   ],
   "source": [
    "first_name = 'Jiesen'\n",
    "first_name"
   ]
  },
  {
   "cell_type": "code",
   "execution_count": 4,
   "id": "83d46e54",
   "metadata": {},
   "outputs": [
    {
     "data": {
      "text/plain": [
       "'Zhang'"
      ]
     },
     "execution_count": 4,
     "metadata": {},
     "output_type": "execute_result"
    }
   ],
   "source": [
    "last_name = \"Zhang\"\n",
    "last_name"
   ]
  },
  {
   "cell_type": "code",
   "execution_count": 5,
   "id": "4f75f5a4",
   "metadata": {},
   "outputs": [
    {
     "data": {
      "text/plain": [
       "str"
      ]
     },
     "execution_count": 5,
     "metadata": {},
     "output_type": "execute_result"
    }
   ],
   "source": [
    "type(first_name)"
   ]
  },
  {
   "cell_type": "markdown",
   "id": "1efab5b7",
   "metadata": {},
   "source": [
    "#### Data types to store numbers"
   ]
  },
  {
   "cell_type": "code",
   "execution_count": 6,
   "id": "5f4fe23d",
   "metadata": {},
   "outputs": [
    {
     "data": {
      "text/plain": [
       "21"
      ]
     },
     "execution_count": 6,
     "metadata": {},
     "output_type": "execute_result"
    }
   ],
   "source": [
    "age = 21\n",
    "age"
   ]
  },
  {
   "cell_type": "code",
   "execution_count": 7,
   "id": "d0c01e95",
   "metadata": {},
   "outputs": [
    {
     "data": {
      "text/plain": [
       "4.0"
      ]
     },
     "execution_count": 7,
     "metadata": {},
     "output_type": "execute_result"
    }
   ],
   "source": [
    "GPA = 4.0\n",
    "GPA"
   ]
  },
  {
   "cell_type": "code",
   "execution_count": 8,
   "id": "22df69de",
   "metadata": {},
   "outputs": [
    {
     "data": {
      "text/plain": [
       "int"
      ]
     },
     "execution_count": 8,
     "metadata": {},
     "output_type": "execute_result"
    }
   ],
   "source": [
    "type(age)"
   ]
  },
  {
   "cell_type": "code",
   "execution_count": 9,
   "id": "c4560143",
   "metadata": {},
   "outputs": [
    {
     "data": {
      "text/plain": [
       "float"
      ]
     },
     "execution_count": 9,
     "metadata": {},
     "output_type": "execute_result"
    }
   ],
   "source": [
    "type(GPA)"
   ]
  },
  {
   "cell_type": "markdown",
   "id": "8e522aee",
   "metadata": {},
   "source": [
    "#### Boolean type"
   ]
  },
  {
   "cell_type": "code",
   "execution_count": 10,
   "id": "fde0f232",
   "metadata": {},
   "outputs": [
    {
     "data": {
      "text/plain": [
       "True"
      ]
     },
     "execution_count": 10,
     "metadata": {},
     "output_type": "execute_result"
    }
   ],
   "source": [
    "is_IA = True\n",
    "is_IA"
   ]
  },
  {
   "cell_type": "code",
   "execution_count": 11,
   "id": "a477e370",
   "metadata": {},
   "outputs": [
    {
     "data": {
      "text/plain": [
       "False"
      ]
     },
     "execution_count": 11,
     "metadata": {},
     "output_type": "execute_result"
    }
   ],
   "source": [
    "is_TA = False\n",
    "is_TA"
   ]
  },
  {
   "cell_type": "code",
   "execution_count": 12,
   "id": "3416c114",
   "metadata": {},
   "outputs": [
    {
     "data": {
      "text/plain": [
       "bool"
      ]
     },
     "execution_count": 12,
     "metadata": {},
     "output_type": "execute_result"
    }
   ],
   "source": [
    "type(is_TA)"
   ]
  },
  {
   "cell_type": "markdown",
   "id": "ec9c995c",
   "metadata": {},
   "source": [
    "### Basic Operations\n",
    "#### Adding two variables"
   ]
  },
  {
   "cell_type": "code",
   "execution_count": 13,
   "id": "a65c6540",
   "metadata": {},
   "outputs": [
    {
     "data": {
      "text/plain": [
       "25.0"
      ]
     },
     "execution_count": 13,
     "metadata": {},
     "output_type": "execute_result"
    }
   ],
   "source": [
    "age + GPA"
   ]
  },
  {
   "cell_type": "code",
   "execution_count": 14,
   "id": "93426b50",
   "metadata": {},
   "outputs": [
    {
     "data": {
      "text/plain": [
       "'JiesenZhang'"
      ]
     },
     "execution_count": 14,
     "metadata": {},
     "output_type": "execute_result"
    }
   ],
   "source": [
    "first_name+last_name"
   ]
  },
  {
   "cell_type": "code",
   "execution_count": 17,
   "id": "66dd5049",
   "metadata": {},
   "outputs": [
    {
     "data": {
      "text/plain": [
       "1"
      ]
     },
     "execution_count": 17,
     "metadata": {},
     "output_type": "execute_result"
    }
   ],
   "source": [
    "True + False"
   ]
  },
  {
   "cell_type": "code",
   "execution_count": 19,
   "id": "aaac0e10",
   "metadata": {},
   "outputs": [
    {
     "data": {
      "text/plain": [
       "int"
      ]
     },
     "execution_count": 19,
     "metadata": {},
     "output_type": "execute_result"
    }
   ],
   "source": [
    "type(True + True)"
   ]
  },
  {
   "cell_type": "code",
   "execution_count": 20,
   "id": "82bdfc7c",
   "metadata": {},
   "outputs": [
    {
     "ename": "TypeError",
     "evalue": "unsupported operand type(s) for -: 'str' and 'str'",
     "output_type": "error",
     "traceback": [
      "\u001b[0;31m---------------------------------------------------------------------------\u001b[0m",
      "\u001b[0;31mTypeError\u001b[0m                                 Traceback (most recent call last)",
      "Cell \u001b[0;32mIn[20], line 1\u001b[0m\n\u001b[0;32m----> 1\u001b[0m \u001b[43mfirst_name\u001b[49m\u001b[38;5;241;43m-\u001b[39;49m\u001b[43mlast_name\u001b[49m\n",
      "\u001b[0;31mTypeError\u001b[0m: unsupported operand type(s) for -: 'str' and 'str'"
     ]
    }
   ],
   "source": [
    "first_name-last_name"
   ]
  },
  {
   "cell_type": "code",
   "execution_count": 21,
   "id": "68af482c",
   "metadata": {},
   "outputs": [
    {
     "data": {
      "text/plain": [
       "17.0"
      ]
     },
     "execution_count": 21,
     "metadata": {},
     "output_type": "execute_result"
    }
   ],
   "source": [
    "age - GPA"
   ]
  },
  {
   "cell_type": "code",
   "execution_count": 22,
   "id": "55eca896",
   "metadata": {},
   "outputs": [
    {
     "data": {
      "text/plain": [
       "9.0"
      ]
     },
     "execution_count": 22,
     "metadata": {},
     "output_type": "execute_result"
    }
   ],
   "source": [
    "# Calculating the distance between two points\n",
    "def cal_dis(point_a, point_b):\n",
    "    dis = (((point_b[0]**2) - (point_a[0]**2))**2 + ((point_b[1]**2) - (point_b[1]**2))**2)**0.5\n",
    "    return dis\n",
    "\n",
    "cal_dis((0,4), (3,0))"
   ]
  }
 ],
 "metadata": {
  "kernelspec": {
   "display_name": "Python 3 (ipykernel)",
   "language": "python",
   "name": "python3"
  },
  "language_info": {
   "codemirror_mode": {
    "name": "ipython",
    "version": 3
   },
   "file_extension": ".py",
   "mimetype": "text/x-python",
   "name": "python",
   "nbconvert_exporter": "python",
   "pygments_lexer": "ipython3",
   "version": "3.8.15"
  }
 },
 "nbformat": 4,
 "nbformat_minor": 5
}
